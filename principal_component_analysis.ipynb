{
 "cells": [
  {
   "cell_type": "markdown",
   "metadata": {
    "collapsed": false
   },
   "source": [
    "### Import Libraries"
   ]
  },
  {
   "cell_type": "code",
   "execution_count": 1,
   "metadata": {
    "collapsed": false
   },
   "outputs": [
   ],
   "source": [
    "import numpy as np\n",
    "import pandas as pd\n",
    "\n",
    "import matplotlib\n",
    "import matplotlib.pyplot as plt\n",
    "matplotlib.style.use('fivethirtyeight')"
   ]
  },
  {
   "cell_type": "code",
   "execution_count": 2,
   "metadata": {
    "collapsed": false
   },
   "outputs": [
   ],
   "source": [
    "from sklearn.datasets import fetch_olivetti_faces\n",
    "\n",
    "import time\n",
    "import timeit\n",
    "%matplotlib inline\n",
    "\n",
    "import scipy\n",
    "import scipy.stats\n",
    "import matplotlib.pyplot as plt\n",
    "\n",
    "from ipywidgets import interact\n",
    "\n",
    "plt.style.use('fivethirtyeight')\n",
    "%matplotlib inline\n",
    "\n",
    "from numpy.testing import assert_allclose"
   ]
  },
  {
   "cell_type": "markdown",
   "metadata": {
    "collapsed": false
   },
   "source": [
    "**Compute the sample mean vector of a matrix**\n",
    "\n",
    "$\\overline{X}$ = $\\displaystyle\\frac{1}{N}$ (${X}^T$ ${j}$), where \n",
    "- ${j}$ $\\in$ $\\mathbb{R}^{n \\times 1}$\n",
    "- $\\overline{X}$: Sample mean vector\n",
    "- ${X}^T$: Transpose of the input matrix of shape (N, D)\n",
    "- ${N}$: Size of the dataset\n",
    "- ${D}$: Dimensionality of the dataset"
   ]
  },
  {
   "cell_type": "code",
   "execution_count": 3,
   "metadata": {
    "collapsed": false
   },
   "outputs": [
   ],
   "source": [
    "def mean_x(X):\n",
    "    N, D = X.shape\n",
    "    j = np.ones(N)\n",
    "    XTJ = X.T @ j\n",
    "    mean_vector = XTJ / N\n",
    "\n",
    "    return mean_vector"
   ]
  },
  {
   "cell_type": "markdown",
   "metadata": {
    "collapsed": false
   },
   "source": [
    "**Compute the covariance matrix of a dataset**\n",
    "\n",
    "${S}$ = $\\displaystyle\\frac{1}{N}$ ${X}^T$ (${I}$ - $\\displaystyle\\frac{1}{N}$ ${J}$) ${X}$, where\n",
    "- ${X}$: Input matrix of shape (N, D)\n",
    "- ${N}$: Size of the dataset\n",
    "- ${D}$: Dimensionality of the dataset\n",
    "- ${X}^T$: Transpose of the input matrix\n",
    "- ${I}$ $\\in$ $\\mathbb{R}^{n \\times n}$: Identitiy matrix\n",
    "- ${J}$ $\\in$ $\\mathbb{R}^{n \\times n}$: Unit matrix"
   ]
  },
  {
   "cell_type": "code",
   "execution_count": 4,
   "metadata": {
    "collapsed": false
   },
   "outputs": [
   ],
   "source": [
    "def cov(X):\n",
    "    N, D = X.shape\n",
    "    I = np.identity(N)\n",
    "    J = np.ones((N,N))\n",
    "    S = (1/N) * X.T @ (I - (1/N) * J) @ X\n",
    "\n",
    "    return S"
   ]
  },
  {
   "cell_type": "markdown",
   "metadata": {
    "collapsed": false
   },
   "source": [
    "**Data normalization**\n",
    "\n",
    "$\\bar{X}$ = $\\frac{X - μ}{σ}$, where\n",
    "- $\\bar{X}$: Normalized dataset with mean zero and unit variance"
   ]
  },
  {
   "cell_type": "code",
   "execution_count": 5,
   "metadata": {
    "collapsed": false
   },
   "outputs": [
   ],
   "source": [
    "def normalize(X):\n",
    "    μ = mean_x(X)\n",
    "    X_bar = X - μ\n",
    "\n",
    "    return X_bar, μ"
   ]
  },
  {
   "cell_type": "markdown",
   "metadata": {
    "collapsed": false
   },
   "source": [
    "**Compute eigenvalues and eigenvectors**\n",
    "\n",
    "Where\n",
    "- ${S}$: Covariance matrix\n",
    "- ${\\lambda}$: Eigenvalues sorted in descending order of the eigen values\n",
    "- ${V}$: Eigenvectors sorted in descending order of the eigen values"
   ]
  },
  {
   "cell_type": "code",
   "execution_count": 6,
   "metadata": {
    "collapsed": false
   },
   "outputs": [
   ],
   "source": [
    "def eig(S):\n",
    "    λ, V = np.linalg.eig(S)\n",
    "    sort_indices = np.argsort(λ)[::-1]\n",
    "\n",
    "    return λ[sort_indices], V[:, sort_indices]"
   ]
  },
  {
   "cell_type": "markdown",
   "metadata": {
    "collapsed": false
   },
   "source": [
    "**Compute Projection Matrix onto the space spanned by `B`**\n",
    "\n",
    "${P}$ = ${B}$ (${B}^T$ ${B})^{-1}$ ${B}^T$, where\n",
    "- ${B}$: Basis of the subspace with dimension (D, M)"
   ]
  },
  {
   "cell_type": "code",
   "execution_count": 7,
   "metadata": {
    "collapsed": false
   },
   "outputs": [
   ],
   "source": [
    "def projection_matrix(B):\n",
    "    P = B @ np.linalg.inv(B.T @ B) @ B.T\n",
    "\n",
    "    return P"
   ]
  },
  {
   "cell_type": "markdown",
   "metadata": {
    "collapsed": false
   },
   "source": [
    "**Principal Component Analysis**\n",
    "\n",
    "\n",
    "The function below takes advantage of the functions implemented above to perform PCA."
   ]
  },
  {
   "cell_type": "code",
   "execution_count": 8,
   "metadata": {
    "collapsed": false
   },
   "outputs": [
   ],
   "source": [
    "def PCA(X, num_components):\n",
    "    # Normalization of the dataset so that they have zero mean\n",
    "    X_normalized, μ = normalize(X)\n",
    "\n",
    "    # Compute covariance matrix S\n",
    "    S = cov(X)\n",
    "\n",
    "    # Compute the eigenvalues (λ) and eigenvectors (V) of S in descending order of the eigenvalues\n",
    "    λ, V = eig(S)\n",
    "\n",
    "    # Take the top \"num_components\" of λ and V\n",
    "    principal_values = λ[:num_components]\n",
    "    principal_components = V[:, :num_components]\n",
    "\n",
    "    # Compute the projection matrix onto the space spanned by the principal components\n",
    "    P = projection_matrix(principal_components)\n",
    "\n",
    "    # Reconstruct data using the basis spanned by the principal components\n",
    "    X_reconsted = (P @ X_normalized.T).T + μ\n",
    "\n",
    "    return X_reconsted, μ, principal_values, principal_components"
   ]
  },
  {
   "cell_type": "markdown",
   "metadata": {
    "collapsed": false
   },
   "source": [
    "Generate a dataset X from a 2D Gaussian distribution"
   ]
  },
  {
   "cell_type": "code",
   "execution_count": 9,
   "metadata": {
    "collapsed": false
   },
   "outputs": [
   ],
   "source": [
    "def draw_vector(v0, v1, ax=None, label=None):\n",
    "    \"\"\"Draw a vector from v0 to v1.\"\"\"\n",
    "    ax = ax or plt.gca()\n",
    "    arrowprops=dict(arrowstyle='->',\n",
    "                    linewidth=2,\n",
    "                    shrinkA=0, shrinkB=0, \n",
    "                    color='k')\n",
    "    ax.annotate('', v1, v0, arrowprops=arrowprops, label=label)"
   ]
  },
  {
   "cell_type": "code",
   "execution_count": 10,
   "metadata": {
    "collapsed": false
   },
   "outputs": [
   ],
   "source": [
    "D = 2\n",
    "N = 10\n",
    "\n",
    "mvn = scipy.stats.multivariate_normal(\n",
    "    mean=np.ones(D, dtype=np.float64), \n",
    "    cov=np.array([[1, 0.8], [0.8, 1]], dtype=np.float64)\n",
    ")\n",
    "\n",
    "X = mvn.rvs((100,), random_state=np.random.RandomState(0))"
   ]
  },
  {
   "cell_type": "markdown",
   "metadata": {
    "collapsed": false
   },
   "source": [
    "**Compare the results of our PCA implementation with the implementation of scikit-learn**"
   ]
  },
  {
   "cell_type": "code",
   "execution_count": 11,
   "metadata": {
    "collapsed": false
   },
   "outputs": [
   ],
   "source": [
    "from sklearn.decomposition import PCA as SKPCA"
   ]
  },
  {
   "cell_type": "code",
   "execution_count": 12,
   "metadata": {
    "collapsed": false
   },
   "outputs": [
    {
     "name": "stdout",
     "output_type": "stream",
     "text": [
      "difference in reconstruction for num_components = 1: 3.404427844094429e-29\n",
      "difference in reconstruction for num_components = 2: 1.1327549560907966e-29\n"
     ]
    }
   ],
   "source": [
    "for num_component in range(1, 3):\n",
    "    # We can compute a standard solution given by scikit-learn's implementation of PCA\n",
    "    pca = SKPCA(n_components=num_component, svd_solver=\"full\")\n",
    "    sklearn_reconst = pca.inverse_transform(pca.fit_transform(X))\n",
    "    reconst, _, _, _ = PCA(X, num_component)\n",
    "    # The difference in the result should be very small (<10^-20)\n",
    "    print(\n",
    "        \"difference in reconstruction for num_components = {}: {}\".format(\n",
    "            num_component, np.square(reconst - sklearn_reconst).sum()\n",
    "        )\n",
    "    )"
   ]
  },
  {
   "cell_type": "markdown",
   "metadata": {
    "collapsed": false
   },
   "source": [
    "**As we can see above, our almost achieves identical results as the scikit-learn implementation.**\n",
    "\n",
    "**We can also visualize PCA:**"
   ]
  },
  {
   "cell_type": "code",
   "execution_count": 13,
   "metadata": {
    "collapsed": false
   },
   "outputs": [
    {
     "data": {
      "image/png": "[encoded data removed]",
      "text/plain": [
       "<Figure size 432x432 with 1 Axes>"
      ]
     },
     "execution_count": 13,
     "metadata": {
      "image/png": {
       "height": 369,
       "width": 424
      },
      "needs_background": "light"
     },
     "output_type": "execute_result"
    }
   ],
   "source": [
    "num_components = 1\n",
    "X_reconst, mean, principal_values, principal_components = PCA(X, num_components)\n",
    "\n",
    "fig, ax = plt.subplots(figsize=(6, 6))\n",
    "# eig_vals, eig_vecs = eig_vals[:num_components], eig_vecs[:, :num_components]\n",
    "ax.scatter(X[:, 0], X[:, 1], label='data')\n",
    "for (princial_variance, principal_component) in (zip(principal_values, principal_components.T)):\n",
    "    draw_vector(\n",
    "        mean, mean + np.sqrt(princial_variance) * principal_component, \n",
    "        ax=ax)\n",
    "ax.scatter(X_reconst[:, 0], X_reconst[:, 1], label='reconstructed')\n",
    "plt.axis('equal');\n",
    "plt.legend();\n",
    "ax.set(xlabel='$\\mathbf{x}_0$', ylabel='$\\mathbf{x}_1$');"
   ]
  },
  {
   "cell_type": "markdown",
   "metadata": {
    "collapsed": false
   },
   "source": [
    "**Principal Component Analysis for high-dimensional datasets**"
   ]
  },
  {
   "cell_type": "code",
   "execution_count": 14,
   "metadata": {
    "collapsed": false
   },
   "outputs": [
   ],
   "source": [
    "def PCA_high_dim(X, num_components):\n",
    "    N, D = X.shape\n",
    "\n",
    "    # Normalization of the dataset so that they have zero mean\n",
    "    X_normalized, μ = normalize(X)\n",
    "\n",
    "    # Find the covariance matrix\n",
    "    M = np.dot(X_normalized, X_normalized.T) / N\n",
    "\n",
    "    # Compute the eigenvalues (λ) and eigenvectors (V) of S in descending order of the eigenvalues\n",
    "    λ, V = eig(M)\n",
    "\n",
    "    # Compute eigenvectors for the original covariance matrix\n",
    "    XV = X_normalized.T @ V\n",
    "\n",
    "    # Choose eingenvectors with the `num_components` largest eigenvalues to be the basis of principal subspace U\n",
    "    U = XV[:, :num_components]\n",
    "\n",
    "    # Compute the orthogonal projection of the data onto the subspace spanned by columns of U\n",
    "    P = projection_matrix(U[:, :num_components])\n",
    "\n",
    "    # Reconstruct the data\n",
    "    X_reconstructed = (P @ X_normalized.T).T + μ\n",
    "\n",
    "    return X_reconstructed, μ, λ, V"
   ]
  },
  {
   "cell_type": "markdown",
   "metadata": {
    "collapsed": false
   },
   "source": [
    "Next, we will compare the implementation from the PCA in higher dimensions with the model from scikit-learn."
   ]
  },
  {
   "cell_type": "code",
   "execution_count": 15,
   "metadata": {
    "collapsed": false
   },
   "outputs": [
    {
     "name": "stdout",
     "output_type": "stream",
     "text": [
      "difference in reconstruction for num_components = 1: (3.5091984330690947e-29+0j)\n",
      "difference in reconstruction for num_components = 2: (1.3971466188562764e-29+0j)\n"
     ]
    }
   ],
   "source": [
    "for num_component in range(1, 3):\n",
    "    pca = SKPCA(n_components=num_component, svd_solver=\"full\")\n",
    "    sklearn_reconst = pca.inverse_transform(pca.fit_transform(X))\n",
    "    reconst, _, _, _ = PCA_high_dim(X, num_component)\n",
    "    print(\n",
    "        \"difference in reconstruction for num_components = {}: {}\".format(\n",
    "            num_component, np.square(reconst - sklearn_reconst).sum()\n",
    "        )\n",
    "    )"
   ]
  },
  {
   "cell_type": "code",
   "execution_count": 0,
   "metadata": {
    "collapsed": false
   },
   "outputs": [
   ],
   "source": [
   ]
  }
 ],
 "metadata": {
  "kernelspec": {
   "display_name": "Python 3 (system-wide)",
   "language": "python",
   "metadata": {
    "cocalc": {
     "description": "Python 3 programming language",
     "priority": 100,
     "url": "https://www.python.org/"
    }
   },
   "name": "python3",
   "resource_dir": "/ext/jupyter/kernels/python3"
  },
  "language_info": {
   "codemirror_mode": {
    "name": "ipython",
    "version": 3
   },
   "file_extension": ".py",
   "mimetype": "text/x-python",
   "name": "python",
   "nbconvert_exporter": "python",
   "pygments_lexer": "ipython3",
   "version": "3.8.10"
  }
 },
 "nbformat": 4,
 "nbformat_minor": 4
}